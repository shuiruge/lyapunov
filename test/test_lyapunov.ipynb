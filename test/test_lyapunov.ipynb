{
 "cells": [
  {
   "cell_type": "code",
   "execution_count": 1,
   "metadata": {},
   "outputs": [
    {
     "name": "stderr",
     "output_type": "stream",
     "text": [
      "c:\\Users\\shuir\\scoop\\apps\\miniconda3\\current\\lib\\site-packages\\tqdm\\auto.py:22: TqdmWarning: IProgress not found. Please update jupyter and ipywidgets. See https://ipywidgets.readthedocs.io/en/stable/user_install.html\n",
      "  from .autonotebook import tqdm as notebook_tqdm\n"
     ]
    }
   ],
   "source": [
    "import tensorflow as tf\n",
    "import tensorflow_datasets as tfds\n",
    "import matplotlib.pyplot as plt\n",
    "from tqdm import tqdm\n",
    "\n",
    "from lyapunov import EnergyModel, random_uniform, RandomWalkParams"
   ]
  },
  {
   "cell_type": "code",
   "execution_count": 67,
   "metadata": {},
   "outputs": [],
   "source": [
    "class GradientNormHistoryCallback:\n",
    "    \n",
    "    def __init__(self, model, log_steps):\n",
    "        self.model = model\n",
    "        self.log_steps = tf.constant(int(log_steps), dtype='int32')\n",
    "        self.history = [[] for _ in model.params]\n",
    "\n",
    "    def __call__(self, model, step, batch, grads):\n",
    "        if tf.greater(step % self.log_steps, 0):\n",
    "            return\n",
    "\n",
    "        for history, grad in zip(self.history, grads):\n",
    "            grad_norm = tf.reduce_mean(tf.abs(grad))\n",
    "            history.append(grad_norm)"
   ]
  },
  {
   "cell_type": "code",
   "execution_count": 68,
   "metadata": {},
   "outputs": [],
   "source": [
    "(ds_train, ds_test), ds_info = tfds.load(\n",
    "    'mnist',\n",
    "    split=['train', 'test'],\n",
    "    shuffle_files=True,\n",
    "    as_supervised=True,\n",
    "    with_info=True,\n",
    ")\n",
    "\n",
    "\n",
    "def filter_img(image, label):\n",
    "    return image\n",
    "\n",
    "def normalize_img(image):\n",
    "    \"\"\"Normalizes images: `uint8` -> `float32`.\"\"\"\n",
    "    return 2 * tf.cast(image, tf.float32) / 255 - 1\n",
    "\n",
    "def reshape_img(image):\n",
    "    return tf.reshape(image, [28*28])\n",
    "\n",
    "dataset = (ds_train\n",
    "    .map(filter_img, num_parallel_calls=tf.data.AUTOTUNE)\n",
    "    .map(normalize_img, num_parallel_calls=tf.data.AUTOTUNE)\n",
    "    .map(reshape_img, num_parallel_calls=tf.data.AUTOTUNE)\n",
    "    .cache()\n",
    "    .shuffle(ds_info.splits['train'].num_examples)\n",
    "    .repeat(5)\n",
    "    .batch(128)\n",
    "    .prefetch(tf.data.AUTOTUNE)\n",
    ")"
   ]
  },
  {
   "cell_type": "code",
   "execution_count": 69,
   "metadata": {},
   "outputs": [],
   "source": [
    "network = tf.keras.Sequential([\n",
    "    tf.keras.layers.Dense(1024, tf.nn.relu),\n",
    "    tf.keras.layers.Dense(1, use_bias=False),\n",
    "])\n",
    "network.build([None, 28*28])\n",
    "model = EnergyModel(network, random_uniform([128, 28*28]))\n",
    "\n",
    "optimizer = tf.keras.optimizers.RMSprop(clipvalue=1e-1)\n",
    "params = RandomWalkParams(2e-0, 1e-1, 1e-2)\n",
    "callbacks = [GradientNormHistoryCallback(model, log_steps=100)]\n",
    "\n",
    "train_step = model.get_optimize_fn(optimizer, params, callbacks=callbacks)\n",
    "train_step = tf.function(train_step)"
   ]
  },
  {
   "cell_type": "code",
   "execution_count": 70,
   "metadata": {},
   "outputs": [
    {
     "name": "stderr",
     "output_type": "stream",
     "text": [
      "100%|██████████| 2344/2344 [03:22<00:00, 11.55it/s]\n"
     ]
    }
   ],
   "source": [
    "for batch in tqdm(dataset):\n",
    "    train_step(batch)"
   ]
  },
  {
   "cell_type": "code",
   "execution_count": 71,
   "metadata": {},
   "outputs": [
    {
     "data": {
      "text/plain": [
       "[<tf.Tensor 'Mean_2:0' shape=() dtype=float32>,\n",
       " <tf.Tensor 'Mean_2:0' shape=() dtype=float32>,\n",
       " <tf.Tensor 'Mean_2:0' shape=() dtype=float32>]"
      ]
     },
     "execution_count": 71,
     "metadata": {},
     "output_type": "execute_result"
    }
   ],
   "source": [
    "callbacks[0].history[0]"
   ]
  },
  {
   "cell_type": "code",
   "execution_count": 72,
   "metadata": {},
   "outputs": [
    {
     "data": {
      "image/png": "[encoded data removed]",
      "text/plain": [
       "<Figure size 432x288 with 1 Axes>"
      ]
     },
     "metadata": {
      "needs_background": "light"
     },
     "output_type": "display_data"
    }
   ],
   "source": [
    "plt.hist(model.fantasy_particles.numpy().reshape([-1]), bins=100)\n",
    "plt.show()"
   ]
  },
  {
   "cell_type": "code",
   "execution_count": 73,
   "metadata": {},
   "outputs": [],
   "source": [
    "test_X = list(dataset)[1]"
   ]
  },
  {
   "cell_type": "code",
   "execution_count": 95,
   "metadata": {},
   "outputs": [],
   "source": [
    "relax_params = RandomWalkParams(1e+1, 1e-1, 0.0)\n",
    "noised_X = test_X + 0.5 * tf.random.truncated_normal(test_X.shape)\n",
    "relaxed_X = model(noised_X, relax_params)"
   ]
  },
  {
   "cell_type": "code",
   "execution_count": 96,
   "metadata": {},
   "outputs": [
    {
     "data": {
      "text/plain": [
       "<tf.Tensor: shape=(128, 1), dtype=float32, numpy=\n",
       "array([[18.179373],\n",
       "       [19.03385 ],\n",
       "       [18.58025 ],\n",
       "       [18.2462  ],\n",
       "       [17.492968],\n",
       "       [16.791695],\n",
       "       [19.185629],\n",
       "       [19.453144],\n",
       "       [18.015432],\n",
       "       [18.682909],\n",
       "       [17.254786],\n",
       "       [19.77463 ],\n",
       "       [18.547848],\n",
       "       [20.234503],\n",
       "       [17.301382],\n",
       "       [19.285563],\n",
       "       [17.337465],\n",
       "       [19.032934],\n",
       "       [18.521706],\n",
       "       [18.875608],\n",
       "       [19.14315 ],\n",
       "       [19.017414],\n",
       "       [18.880901],\n",
       "       [17.91922 ],\n",
       "       [19.498207],\n",
       "       [18.110188],\n",
       "       [16.33871 ],\n",
       "       [18.112417],\n",
       "       [16.164444],\n",
       "       [18.99847 ],\n",
       "       [20.594086],\n",
       "       [20.997564],\n",
       "       [18.336819],\n",
       "       [18.717587],\n",
       "       [18.94093 ],\n",
       "       [19.272722],\n",
       "       [18.523407],\n",
       "       [19.237461],\n",
       "       [19.847736],\n",
       "       [19.046501],\n",
       "       [21.002596],\n",
       "       [19.295359],\n",
       "       [18.91787 ],\n",
       "       [19.746918],\n",
       "       [18.941696],\n",
       "       [18.6704  ],\n",
       "       [18.206282],\n",
       "       [19.302362],\n",
       "       [18.53109 ],\n",
       "       [17.601343],\n",
       "       [19.335009],\n",
       "       [19.80114 ],\n",
       "       [18.428564],\n",
       "       [18.512072],\n",
       "       [18.151402],\n",
       "       [20.299128],\n",
       "       [18.65492 ],\n",
       "       [20.363415],\n",
       "       [17.842155],\n",
       "       [19.033567],\n",
       "       [19.783216],\n",
       "       [17.894814],\n",
       "       [17.150059],\n",
       "       [18.650723],\n",
       "       [19.573736],\n",
       "       [18.211842],\n",
       "       [18.196632],\n",
       "       [19.512157],\n",
       "       [19.751165],\n",
       "       [19.178864],\n",
       "       [17.67889 ],\n",
       "       [17.979925],\n",
       "       [20.445545],\n",
       "       [19.635777],\n",
       "       [19.155718],\n",
       "       [17.982843],\n",
       "       [19.154055],\n",
       "       [18.878836],\n",
       "       [17.089184],\n",
       "       [17.287779],\n",
       "       [18.758121],\n",
       "       [20.038034],\n",
       "       [19.710564],\n",
       "       [20.114645],\n",
       "       [18.76457 ],\n",
       "       [18.091333],\n",
       "       [16.913906],\n",
       "       [18.752243],\n",
       "       [17.807663],\n",
       "       [16.318237],\n",
       "       [18.588657],\n",
       "       [18.916769],\n",
       "       [18.30489 ],\n",
       "       [18.170818],\n",
       "       [17.972105],\n",
       "       [18.795279],\n",
       "       [17.600485],\n",
       "       [21.000423],\n",
       "       [17.633389],\n",
       "       [18.261875],\n",
       "       [19.104908],\n",
       "       [19.069996],\n",
       "       [17.593052],\n",
       "       [20.387415],\n",
       "       [18.66323 ],\n",
       "       [20.188753],\n",
       "       [17.735691],\n",
       "       [19.589066],\n",
       "       [19.80259 ],\n",
       "       [20.985592],\n",
       "       [21.000746],\n",
       "       [17.988394],\n",
       "       [18.007727],\n",
       "       [17.65445 ],\n",
       "       [17.224522],\n",
       "       [17.887592],\n",
       "       [17.6651  ],\n",
       "       [19.049212],\n",
       "       [20.761358],\n",
       "       [19.117882],\n",
       "       [18.430222],\n",
       "       [17.405317],\n",
       "       [18.933182],\n",
       "       [16.92998 ],\n",
       "       [18.296707],\n",
       "       [20.48379 ],\n",
       "       [19.049183],\n",
       "       [17.596977]], dtype=float32)>"
      ]
     },
     "execution_count": 96,
     "metadata": {},
     "output_type": "execute_result"
    }
   ],
   "source": [
    "network(noised_X) - network(relaxed_X)"
   ]
  },
  {
   "cell_type": "code",
   "execution_count": 97,
   "metadata": {},
   "outputs": [
    {
     "data": {
      "text/plain": [
       "<tf.Tensor: shape=(128, 1), dtype=float32, numpy=\n",
       "array([[ 7.4164305],\n",
       "       [ 9.084175 ],\n",
       "       [10.213295 ],\n",
       "       [ 8.758934 ],\n",
       "       [ 7.611597 ],\n",
       "       [ 6.5661993],\n",
       "       [10.839371 ],\n",
       "       [10.000186 ],\n",
       "       [ 8.546368 ],\n",
       "       [ 9.357105 ],\n",
       "       [ 9.071129 ],\n",
       "       [11.110275 ],\n",
       "       [ 8.775575 ],\n",
       "       [10.873953 ],\n",
       "       [ 8.774719 ],\n",
       "       [10.354122 ],\n",
       "       [ 8.260339 ],\n",
       "       [ 9.309212 ],\n",
       "       [ 9.083656 ],\n",
       "       [ 8.834261 ],\n",
       "       [ 9.168551 ],\n",
       "       [10.276864 ],\n",
       "       [10.063115 ],\n",
       "       [ 8.650333 ],\n",
       "       [10.6545515],\n",
       "       [ 8.006178 ],\n",
       "       [ 8.194656 ],\n",
       "       [ 8.593708 ],\n",
       "       [ 6.8151054],\n",
       "       [ 9.131624 ],\n",
       "       [ 9.487698 ],\n",
       "       [11.4836645],\n",
       "       [ 9.672552 ],\n",
       "       [10.536322 ],\n",
       "       [10.555324 ],\n",
       "       [ 9.927595 ],\n",
       "       [ 9.763375 ],\n",
       "       [ 9.585643 ],\n",
       "       [10.858026 ],\n",
       "       [ 9.690077 ],\n",
       "       [11.5439   ],\n",
       "       [10.156673 ],\n",
       "       [10.178165 ],\n",
       "       [10.209446 ],\n",
       "       [10.4354925],\n",
       "       [ 9.979737 ],\n",
       "       [10.133379 ],\n",
       "       [ 9.752941 ],\n",
       "       [ 9.773841 ],\n",
       "       [ 8.073914 ],\n",
       "       [10.6973   ],\n",
       "       [10.718679 ],\n",
       "       [ 9.426942 ],\n",
       "       [10.229539 ],\n",
       "       [ 8.555873 ],\n",
       "       [11.5197115],\n",
       "       [ 9.305478 ],\n",
       "       [10.139664 ],\n",
       "       [ 7.9495487],\n",
       "       [10.197843 ],\n",
       "       [10.290531 ],\n",
       "       [ 8.87591  ],\n",
       "       [ 7.386391 ],\n",
       "       [ 8.733072 ],\n",
       "       [ 9.690811 ],\n",
       "       [ 7.5356784],\n",
       "       [ 9.15119  ],\n",
       "       [ 9.881837 ],\n",
       "       [10.930849 ],\n",
       "       [ 9.672817 ],\n",
       "       [ 8.001758 ],\n",
       "       [ 9.233955 ],\n",
       "       [10.951606 ],\n",
       "       [10.559481 ],\n",
       "       [ 9.019431 ],\n",
       "       [ 7.4214144],\n",
       "       [ 9.798663 ],\n",
       "       [ 9.773151 ],\n",
       "       [ 8.44109  ],\n",
       "       [ 7.8185616],\n",
       "       [ 9.466792 ],\n",
       "       [ 9.7772455],\n",
       "       [10.616163 ],\n",
       "       [10.97489  ],\n",
       "       [ 8.988754 ],\n",
       "       [ 8.488166 ],\n",
       "       [ 6.52007  ],\n",
       "       [ 8.874078 ],\n",
       "       [ 8.258742 ],\n",
       "       [ 6.9620934],\n",
       "       [10.285364 ],\n",
       "       [ 9.082697 ],\n",
       "       [ 8.911669 ],\n",
       "       [ 8.6817045],\n",
       "       [ 8.82886  ],\n",
       "       [11.231835 ],\n",
       "       [ 7.2247033],\n",
       "       [12.073568 ],\n",
       "       [ 6.890388 ],\n",
       "       [ 9.0711355],\n",
       "       [10.392681 ],\n",
       "       [11.3417425],\n",
       "       [ 7.9430113],\n",
       "       [10.761885 ],\n",
       "       [ 8.503177 ],\n",
       "       [ 9.872696 ],\n",
       "       [ 8.920819 ],\n",
       "       [10.581646 ],\n",
       "       [10.996005 ],\n",
       "       [10.075652 ],\n",
       "       [11.468962 ],\n",
       "       [10.577547 ],\n",
       "       [ 9.943038 ],\n",
       "       [ 8.773266 ],\n",
       "       [ 8.966892 ],\n",
       "       [ 7.962625 ],\n",
       "       [ 7.999483 ],\n",
       "       [ 9.739349 ],\n",
       "       [10.73892  ],\n",
       "       [ 9.699948 ],\n",
       "       [ 8.998844 ],\n",
       "       [ 7.5601506],\n",
       "       [ 9.21987  ],\n",
       "       [ 7.9529657],\n",
       "       [ 9.111688 ],\n",
       "       [ 9.981215 ],\n",
       "       [ 9.776837 ],\n",
       "       [ 8.401163 ]], dtype=float32)>"
      ]
     },
     "execution_count": 97,
     "metadata": {},
     "output_type": "execute_result"
    }
   ],
   "source": [
    "network(test_X) - network(relaxed_X)"
   ]
  },
  {
   "cell_type": "code",
   "execution_count": 77,
   "metadata": {},
   "outputs": [],
   "source": [
    "def display_img(x):\n",
    "    x = x.numpy().reshape([28, 28])\n",
    "    plt.imshow(x)"
   ]
  },
  {
   "cell_type": "code",
   "execution_count": 98,
   "metadata": {},
   "outputs": [
    {
     "data": {
      "image/png": "[encoded data removed]",
      "text/plain": [
       "<Figure size 432x288 with 1 Axes>"
      ]
     },
     "metadata": {
      "needs_background": "light"
     },
     "output_type": "display_data"
    }
   ],
   "source": [
    "i = 0\n",
    "display_img(test_X[i, :])"
   ]
  },
  {
   "cell_type": "code",
   "execution_count": 99,
   "metadata": {},
   "outputs": [
    {
     "data": {
      "image/png": "[encoded data removed]",
      "text/plain": [
       "<Figure size 432x288 with 1 Axes>"
      ]
     },
     "metadata": {
      "needs_background": "light"
     },
     "output_type": "display_data"
    }
   ],
   "source": [
    "display_img(noised_X[i, :])"
   ]
  },
  {
   "cell_type": "code",
   "execution_count": 100,
   "metadata": {},
   "outputs": [
    {
     "data": {
      "image/png": "[encoded data removed]",
      "text/plain": [
       "<Figure size 432x288 with 1 Axes>"
      ]
     },
     "metadata": {
      "needs_background": "light"
     },
     "output_type": "display_data"
    }
   ],
   "source": [
    "display_img(relaxed_X[i, :])"
   ]
  },
  {
   "cell_type": "code",
   "execution_count": null,
   "metadata": {},
   "outputs": [],
   "source": []
  }
 ],
 "metadata": {
  "kernelspec": {
   "display_name": "Python 3.9.12 ('base')",
   "language": "python",
   "name": "python3"
  },
  "language_info": {
   "codemirror_mode": {
    "name": "ipython",
    "version": 3
   },
   "file_extension": ".py",
   "mimetype": "text/x-python",
   "name": "python",
   "nbconvert_exporter": "python",
   "pygments_lexer": "ipython3",
   "version": "3.9.12"
  },
  "orig_nbformat": 4,
  "vscode": {
   "interpreter": {
    "hash": "febd1f2ac07403379837cd2234711b691aad08e94110142e9f2b72790bfe9cf8"
   }
  }
 },
 "nbformat": 4,
 "nbformat_minor": 2
}
